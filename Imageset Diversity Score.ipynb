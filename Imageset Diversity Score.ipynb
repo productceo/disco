{
 "cells": [
  {
   "cell_type": "markdown",
   "metadata": {},
   "source": [
    "# Imageset Diversity Score\n",
    "\n",
    "Documentation: https://1drv.ms/w/s!AkQpwGOlM3EpgSGwPW24y9DUHKJ7"
   ]
  },
  {
   "cell_type": "code",
   "execution_count": 1,
   "metadata": {},
   "outputs": [],
   "source": [
    "from disco import *\n",
    "disco = Disco()"
   ]
  },
  {
   "cell_type": "markdown",
   "metadata": {},
   "source": [
    "## Constant variables"
   ]
  },
  {
   "cell_type": "code",
   "execution_count": 2,
   "metadata": {},
   "outputs": [],
   "source": [
    "disco.facenet_server = \"http://diversity.westus.cloudapp.azure.com:5000/model/predict\"\n",
    "disco.image_download_path = \"Imagesets\"\n",
    "disco.input_file = \"imageset.json\"\n",
    "disco.output_file = \"imageDiversityScore.json\""
   ]
  },
  {
   "cell_type": "markdown",
   "metadata": {},
   "source": [
    "## Microsoft Internal Use: Converting Avatar output file to Disco input file format"
   ]
  },
  {
   "cell_type": "code",
   "execution_count": 3,
   "metadata": {},
   "outputs": [],
   "source": [
    "disco.avatar_file = \"avatar.tsv\"\n",
    "disco.avatar_queries = set([\"ceo\", \"banker\", \"comedian\", \"janitor\", \"jockey\", \"journalist\", \"librarian\", \"lumberjack\", \"manager\", \"nanny\", \"neurologist\", \"nurse\", \"optician\", \"optometrist\", \"organist\", \"painter\", \"paleontologist\", \"plumber\", \"poet\", \"professor\"])"
   ]
  },
  {
   "cell_type": "code",
   "execution_count": 4,
   "metadata": {},
   "outputs": [],
   "source": [
    "disco.convert_avatar_file()"
   ]
  },
  {
   "cell_type": "markdown",
   "metadata": {},
   "source": [
    "## Downloading images"
   ]
  },
  {
   "cell_type": "code",
   "execution_count": 5,
   "metadata": {},
   "outputs": [],
   "source": [
    "disco.download_images()"
   ]
  },
  {
   "cell_type": "markdown",
   "metadata": {},
   "source": [
    "## Calculating imageset diversity score"
   ]
  },
  {
   "cell_type": "code",
   "execution_count": 6,
   "metadata": {},
   "outputs": [],
   "source": [
    "disco.calculate_imageset_diversity_score()"
   ]
  },
  {
   "cell_type": "code",
   "execution_count": 3,
   "metadata": {},
   "outputs": [
    {
     "name": "stdout",
     "output_type": "stream",
     "text": [
      "Imageset: Bingdiversityppe-paleontologist | Diversity Score: 1.3213888280574104\n",
      "Imageset: BingImages+Tbm-comedian | Diversity Score: 1.2816279366634706\n",
      "Imageset: BingImages+Tbm-professor | Diversity Score: 1.343021163105905\n",
      "Imageset: Bingdiversityppe-comedian | Diversity Score: 1.3508083774857136\n",
      "Imageset: Bingdiversityppe-ceo | Diversity Score: 1.352140001121467\n",
      "Imageset: Bingdiversityppe-optometrist | Diversity Score: 1.3562011351561851\n",
      "Imageset: Bingdiversityppe-janitor | Diversity Score: 1.330040369353651\n",
      "Imageset: Bingdiversityppe-organist | Diversity Score: 1.3698151715299887\n",
      "Imageset: Bingdiversityppe-banker | Diversity Score: 1.3737811240907283\n",
      "Imageset: BingImages+Tbm-optician | Diversity Score: 1.3488946680808467\n",
      "Imageset: Bingdiversityppe-manager | Diversity Score: 1.3755421736872675\n",
      "Imageset: BingImages+Tbm-optometrist | Diversity Score: 1.3570751385746498\n",
      "Imageset: Bingdiversityppe-optician | Diversity Score: 1.3383672124738675\n",
      "Imageset: BingImages+Tbm-organist | Diversity Score: 1.2880988225946766\n",
      "Imageset: BingImages+Tbm-ceo | Diversity Score: 1.3322488274427293\n",
      "Imageset: Bingdiversityppe-professor | Diversity Score: 1.3589166338467213\n",
      "Imageset: Bingdiversityppe-neurologist | Diversity Score: 1.3585446458214072\n",
      "Imageset: BingImages+Tbm-janitor | Diversity Score: 1.2459471567827958\n",
      "Imageset: Bingdiversityppe-jockey | Diversity Score: 1.2745937223873125\n",
      "Imageset: BingImages+Tbm-manager | Diversity Score: 1.3747620021153741\n",
      "Imageset: BingImages+Tbm-neurologist | Diversity Score: 1.3788318974032867\n",
      "Imageset: Bingdiversityppe-plumber | Diversity Score: 1.3491634717273524\n",
      "Imageset: Bingdiversityppe-lumberjack | Diversity Score: 1.3213607082721301\n",
      "Imageset: Bingdiversityppe-journalist | Diversity Score: 1.3808057095010806\n",
      "Imageset: Bingdiversityppe-librarian | Diversity Score: 1.3293157552040598\n",
      "Imageset: BingImages+Tbm-banker | Diversity Score: 1.361607230858211\n",
      "Imageset: Bingdiversityppe-poet | Diversity Score: 1.2784217800022262\n",
      "Imageset: Bingdiversityppe-painter | Diversity Score: 1.3797563374131698\n",
      "Imageset: BingImages+Tbm-poet | Diversity Score: 1.2786469709128634\n",
      "Imageset: BingImages+Tbm-paleontologist | Diversity Score: 1.3170611120761408\n",
      "Imageset: Bingdiversityppe-nanny | Diversity Score: 1.3605715861843972\n",
      "Imageset: Bingdiversityppe-nurse | Diversity Score: 1.3623654743038436\n",
      "Imageset: BingImages+Tbm-plumber | Diversity Score: 1.3053951044744732\n",
      "Imageset: BingImages+Tbm-nurse | Diversity Score: 1.3463508308024597\n",
      "Imageset: BingImages+Tbm-nanny | Diversity Score: 1.3154517043351843\n",
      "Imageset: BingImages+Tbm-librarian | Diversity Score: 1.327026032323533\n",
      "Imageset: BingImages+Tbm-painter | Diversity Score: 1.379809762530273\n",
      "Imageset: BingImages+Tbm-lumberjack | Diversity Score: 1.2506547311454816\n",
      "Imageset: BingImages+Tbm-journalist | Diversity Score: 1.377252593807148\n",
      "Imageset: BingImages+Tbm-jockey | Diversity Score: 1.2575708496190994\n"
     ]
    }
   ],
   "source": [
    "disco.print_imageset_diversity_score()"
   ]
  }
 ],
 "metadata": {
  "kernelspec": {
   "display_name": "Python 3",
   "language": "python",
   "name": "python3"
  },
  "language_info": {
   "codemirror_mode": {
    "name": "ipython",
    "version": 3
   },
   "file_extension": ".py",
   "mimetype": "text/x-python",
   "name": "python",
   "nbconvert_exporter": "python",
   "pygments_lexer": "ipython3",
   "version": "3.7.3"
  }
 },
 "nbformat": 4,
 "nbformat_minor": 2
}
